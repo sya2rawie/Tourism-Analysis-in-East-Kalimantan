{
  "nbformat": 4,
  "nbformat_minor": 5,
  "metadata": {
    "noteable-chatgpt": {
      "create_notebook": {
        "openai_conversation_id": "2e2982f5-7ee5-590b-bdeb-128146be49de",
        "openai_ephemeral_user_id": "06dd9587-1f1c-59dd-8191-fe2490481418",
        "openai_subdivision1_iso_code": "ID-KI"
      }
    },
    "noteable": {
      "last_transaction_id": "7beebc43-87f2-4940-aa9c-f88d191d7ed1"
    },
    "selected_hardware_size": "small"
  },
  "cells": [
    {
      "id": "e04fe7d4-6e71-4c84-8a89-13bcd00667cf",
      "cell_type": "markdown",
      "source": "# Tourism Analysis in East Kalimantan during Eid Holiday 2023\n\nIn this notebook, we will analyze the tourism data of East Kalimantan during the Eid holiday in 2023. The aim is to understand the trends and anomalies in the data, and identify the favorite tourist destinations. The analysis will be presented in a simple and accessible manner, with charts, graphs, and descriptions to help understand the story behind the data.\n\n## Data Loading\n\nFirst, we need to load the data from the provided URL. We will use the pandas library, which is a powerful tool for data manipulation and analysis in Python.",
      "metadata": {
        "jupyter": {
          "outputs_hidden": false,
          "source_hidden": false
        },
        "noteable": {
          "cell_type": "markdown"
        }
      }
    },
    {
      "id": "7d2a8299-dc55-476a-bb73-7e35707e91df",
      "cell_type": "code",
      "metadata": {
        "jupyter": {
          "outputs_hidden": false,
          "source_hidden": false
        },
        "noteable": {
          "cell_type": "code",
          "output_collection_id": "83673566-ec26-43fc-b92f-f6adc39c95ee"
        },
        "ExecuteTime": {
          "end_time": "2023-06-01T11:33:35.823683+00:00",
          "start_time": "2023-06-01T11:33:35.494361+00:00"
        },
        "datalink": {
          "02671b41-3b78-434a-9a11-a72c58bc3eb9": {
            "applied_filters": [],
            "dataframe_info": {
              "default_index_used": true,
              "orig_num_cols": 4,
              "orig_num_rows": 5,
              "orig_size_bytes": 200,
              "truncated_num_cols": 4,
              "truncated_num_rows": 5,
              "truncated_size_bytes": 200,
              "truncated_string_columns": []
            },
            "display_id": "02671b41-3b78-434a-9a11-a72c58bc3eb9",
            "dx_settings": {
              "ALLOW_NOTEABLE_ATTRS": true,
              "COLUMN_SAMPLING_METHOD": "outer",
              "DB_LOCATION": ":memory:",
              "DEV_MODE": false,
              "DISPLAY_MAX_COLUMNS": 100,
              "DISPLAY_MAX_ROWS": 50000,
              "DISPLAY_MODE": "simple",
              "ENABLE_ASSIGNMENT": true,
              "ENABLE_DATALINK": true,
              "FLATTEN_COLUMN_VALUES": true,
              "FLATTEN_INDEX_VALUES": false,
              "GENERATE_DEX_METADATA": false,
              "HTML_TABLE_SCHEMA": false,
              "LOG_LEVEL": 30,
              "MAX_RENDER_SIZE_BYTES": 104857600,
              "MAX_STRING_LENGTH": 250,
              "NUM_PAST_SAMPLES_TRACKED": 3,
              "RANDOM_STATE": 12648430,
              "RESET_INDEX_VALUES": false,
              "ROW_SAMPLING_METHOD": "random",
              "SAMPLING_FACTOR": 0.1,
              "SAMPLING_METHOD": "random",
              "STRINGIFY_COLUMN_VALUES": true,
              "STRINGIFY_INDEX_VALUES": false
            },
            "sample_history": [],
            "sampling_time": "2023-06-01T11:33:35.665221",
            "user_variable_name": null,
            "variable_name": "unk_dataframe_fba13ff58b0d4bd297a50e26d0db177a"
          }
        }
      },
      "execution_count": null,
      "source": "import pandas as pd\n\ndata_url = 'https://raw.githubusercontent.com/sya2rawie/data-kunjungan/main/DATA%20LIBURAN%20LEBARAN%20Kaltim%202023%20fix.csv'\ndf = pd.read_csv(data_url)\ndf.head()",
      "outputs": []
    },
    {
      "id": "f03bb7a3-3ca1-41a1-9217-656e37dc576e",
      "cell_type": "markdown",
      "source": "## Data Cleaning\n\nBefore we can analyze the data, we need to ensure it's in the right format. We see that the 'JUMLAH WISATAWAN LEBARAN 2023' column is currently a string with commas. We'll convert this to an integer for easier analysis. We'll also rename the columns to English for easier understanding.",
      "metadata": {
        "jupyter": {
          "outputs_hidden": false,
          "source_hidden": false
        },
        "noteable": {
          "cell_type": "markdown"
        }
      }
    },
    {
      "id": "6487c241-010a-4869-ba8c-97c70e71aa90",
      "cell_type": "code",
      "metadata": {
        "jupyter": {
          "outputs_hidden": false,
          "source_hidden": false
        },
        "noteable": {
          "cell_type": "code",
          "output_collection_id": "c7e5cd6f-8214-4359-b9a9-9ea31b4b5ff1"
        },
        "ExecuteTime": {
          "end_time": "2023-06-01T11:34:07.013329+00:00",
          "start_time": "2023-06-01T11:34:06.807117+00:00"
        },
        "datalink": {
          "88623aa3-c553-4735-a97d-b5f8b0e2843c": {
            "applied_filters": [],
            "dataframe_info": {
              "default_index_used": true,
              "orig_num_cols": 4,
              "orig_num_rows": 5,
              "orig_size_bytes": 200,
              "truncated_num_cols": 4,
              "truncated_num_rows": 5,
              "truncated_size_bytes": 200,
              "truncated_string_columns": []
            },
            "display_id": "88623aa3-c553-4735-a97d-b5f8b0e2843c",
            "dx_settings": {
              "ALLOW_NOTEABLE_ATTRS": true,
              "COLUMN_SAMPLING_METHOD": "outer",
              "DB_LOCATION": ":memory:",
              "DEV_MODE": false,
              "DISPLAY_MAX_COLUMNS": 100,
              "DISPLAY_MAX_ROWS": 50000,
              "DISPLAY_MODE": "simple",
              "ENABLE_ASSIGNMENT": true,
              "ENABLE_DATALINK": true,
              "FLATTEN_COLUMN_VALUES": true,
              "FLATTEN_INDEX_VALUES": false,
              "GENERATE_DEX_METADATA": false,
              "HTML_TABLE_SCHEMA": false,
              "LOG_LEVEL": 30,
              "MAX_RENDER_SIZE_BYTES": 104857600,
              "MAX_STRING_LENGTH": 250,
              "NUM_PAST_SAMPLES_TRACKED": 3,
              "RANDOM_STATE": 12648430,
              "RESET_INDEX_VALUES": false,
              "ROW_SAMPLING_METHOD": "random",
              "SAMPLING_FACTOR": 0.1,
              "SAMPLING_METHOD": "random",
              "STRINGIFY_COLUMN_VALUES": true,
              "STRINGIFY_INDEX_VALUES": false
            },
            "sample_history": [],
            "sampling_time": "2023-06-01T11:34:06.854879",
            "user_variable_name": null,
            "variable_name": "unk_dataframe_f7751fc1f03d4eb18933e5cf87bf5a31"
          }
        }
      },
      "execution_count": null,
      "source": "# Remove commas and convert to integer\ndf['JUMLAH WISATAWAN LEBARAN 2023'] = df['JUMLAH WISATAWAN LEBARAN 2023'].str.replace(',', '').astype(int)\n\n# Rename columns\ndf.columns = ['City', 'Tourist Destination', 'Number of Tourists 2023', 'Description']\ndf.head()",
      "outputs": []
    },
    {
      "id": "bb337114-571b-48c7-837f-f4ff0776639c",
      "cell_type": "markdown",
      "source": "## Data Analysis\n\nNow that our data is clean, we can start analyzing it. We'll start by looking at the total number of tourists in each city. This will give us an idea of which cities are the most popular.",
      "metadata": {
        "jupyter": {
          "outputs_hidden": false,
          "source_hidden": false
        },
        "noteable": {
          "cell_type": "markdown"
        }
      }
    },
    {
      "id": "8fccb290-8b9c-406d-936a-461b9270b7b7",
      "cell_type": "code",
      "metadata": {
        "jupyter": {
          "outputs_hidden": false,
          "source_hidden": false
        },
        "noteable": {
          "cell_type": "code",
          "output_collection_id": "38583e25-c79e-494a-91a5-6f48693abebe"
        },
        "ExecuteTime": {
          "end_time": "2023-06-01T11:34:31.556863+00:00",
          "start_time": "2023-06-01T11:34:31.370785+00:00"
        },
        "datalink": {
          "ccfbe434-3cad-4230-8ef5-898e4fbd5784": {
            "applied_filters": [],
            "dataframe_info": {
              "default_index_used": false,
              "orig_num_cols": 1,
              "orig_num_rows": 10,
              "orig_size_bytes": 160,
              "truncated_num_cols": 1,
              "truncated_num_rows": 10,
              "truncated_size_bytes": 160,
              "truncated_string_columns": []
            },
            "display_id": "ccfbe434-3cad-4230-8ef5-898e4fbd5784",
            "dx_settings": {
              "ALLOW_NOTEABLE_ATTRS": true,
              "COLUMN_SAMPLING_METHOD": "outer",
              "DB_LOCATION": ":memory:",
              "DEV_MODE": false,
              "DISPLAY_MAX_COLUMNS": 100,
              "DISPLAY_MAX_ROWS": 50000,
              "DISPLAY_MODE": "simple",
              "ENABLE_ASSIGNMENT": true,
              "ENABLE_DATALINK": true,
              "FLATTEN_COLUMN_VALUES": true,
              "FLATTEN_INDEX_VALUES": false,
              "GENERATE_DEX_METADATA": false,
              "HTML_TABLE_SCHEMA": false,
              "LOG_LEVEL": 30,
              "MAX_RENDER_SIZE_BYTES": 104857600,
              "MAX_STRING_LENGTH": 250,
              "NUM_PAST_SAMPLES_TRACKED": 3,
              "RANDOM_STATE": 12648430,
              "RESET_INDEX_VALUES": false,
              "ROW_SAMPLING_METHOD": "random",
              "SAMPLING_FACTOR": 0.1,
              "SAMPLING_METHOD": "random",
              "STRINGIFY_COLUMN_VALUES": true,
              "STRINGIFY_INDEX_VALUES": false
            },
            "sample_history": [],
            "sampling_time": "2023-06-01T11:34:31.401206",
            "user_variable_name": null,
            "variable_name": "unk_dataframe_83b098d1df6c429aa0eeab2c401613e0"
          }
        }
      },
      "execution_count": null,
      "source": "city_totals = df.groupby('City')['Number of Tourists 2023'].sum().sort_values(ascending=False)\ncity_totals",
      "outputs": []
    },
    {
      "id": "964f91b0-eca4-47fd-88cf-4ea2b95fbbf0",
      "cell_type": "markdown",
      "source": "From the data, we can see that Kutai Kertanegara is the most visited city, followed by Penajam Paser Utara and Berau. This could be due to the presence of popular tourist destinations in these cities.\n\nNext, let's look at the top 10 tourist destinations across all cities.",
      "metadata": {
        "jupyter": {
          "outputs_hidden": false,
          "source_hidden": false
        },
        "noteable": {
          "cell_type": "markdown"
        }
      }
    },
    {
      "id": "5fa66c8b-5d76-43e3-a274-ee75fb1cd629",
      "cell_type": "code",
      "metadata": {
        "jupyter": {
          "outputs_hidden": false,
          "source_hidden": false
        },
        "noteable": {
          "cell_type": "code",
          "output_collection_id": "fa6b8cef-e9cb-4e48-98bb-f1f2ac8d7bfb"
        },
        "ExecuteTime": {
          "end_time": "2023-06-01T11:34:59.893588+00:00",
          "start_time": "2023-06-01T11:34:59.690269+00:00"
        },
        "datalink": {
          "5f27e0fa-548d-4354-bb9a-b78dfae61d47": {
            "applied_filters": [],
            "dataframe_info": {
              "default_index_used": true,
              "orig_num_cols": 4,
              "orig_num_rows": 10,
              "orig_size_bytes": 400,
              "truncated_num_cols": 4,
              "truncated_num_rows": 10,
              "truncated_size_bytes": 400,
              "truncated_string_columns": []
            },
            "display_id": "5f27e0fa-548d-4354-bb9a-b78dfae61d47",
            "dx_settings": {
              "ALLOW_NOTEABLE_ATTRS": true,
              "COLUMN_SAMPLING_METHOD": "outer",
              "DB_LOCATION": ":memory:",
              "DEV_MODE": false,
              "DISPLAY_MAX_COLUMNS": 100,
              "DISPLAY_MAX_ROWS": 50000,
              "DISPLAY_MODE": "simple",
              "ENABLE_ASSIGNMENT": true,
              "ENABLE_DATALINK": true,
              "FLATTEN_COLUMN_VALUES": true,
              "FLATTEN_INDEX_VALUES": false,
              "GENERATE_DEX_METADATA": false,
              "HTML_TABLE_SCHEMA": false,
              "LOG_LEVEL": 30,
              "MAX_RENDER_SIZE_BYTES": 104857600,
              "MAX_STRING_LENGTH": 250,
              "NUM_PAST_SAMPLES_TRACKED": 3,
              "RANDOM_STATE": 12648430,
              "RESET_INDEX_VALUES": false,
              "ROW_SAMPLING_METHOD": "random",
              "SAMPLING_FACTOR": 0.1,
              "SAMPLING_METHOD": "random",
              "STRINGIFY_COLUMN_VALUES": true,
              "STRINGIFY_INDEX_VALUES": false
            },
            "sample_history": [],
            "sampling_time": "2023-06-01T11:34:59.735724",
            "user_variable_name": "top_destinations",
            "variable_name": "top_destinations"
          }
        }
      },
      "execution_count": null,
      "source": "top_destinations = df.sort_values('Number of Tourists 2023', ascending=False).head(10)\ntop_destinations",
      "outputs": []
    },
    {
      "id": "0b2cb116-e33e-46e8-805c-19e610ede024",
      "cell_type": "markdown",
      "source": "The table above shows the top 10 tourist destinations in East Kalimantan during the Eid holiday in 2023. The most visited destination is Pantai Panrita Lopi in Kutai Kertanegara, followed by Salo Loang + Pejala (Tanjung Jumlai) in Penajam Paser Utara and PANTI MANGGAR SEGARA SARI in Balikpapan.\n\nNext, let's visualize this data to get a better understanding of the distribution of tourists across these top destinations.",
      "metadata": {
        "jupyter": {
          "outputs_hidden": false,
          "source_hidden": false
        },
        "noteable": {
          "cell_type": "markdown"
        }
      }
    },
    {
      "id": "b5382f9d-52d4-4d45-a18f-b62005b99378",
      "cell_type": "code",
      "metadata": {
        "jupyter": {
          "outputs_hidden": false,
          "source_hidden": false
        },
        "noteable": {
          "cell_type": "code",
          "output_collection_id": "be476e6c-b1ac-4b75-878d-5974dccab1b0"
        },
        "ExecuteTime": {
          "end_time": "2023-06-01T11:35:37.389975+00:00",
          "start_time": "2023-06-01T11:35:35.201286+00:00"
        }
      },
      "execution_count": null,
      "source": "import matplotlib.pyplot as plt\n\nplt.figure(figsize=(10, 6))\nplt.barh(top_destinations['Tourist Destination'], top_destinations['Number of Tourists 2023'], color='skyblue')\nplt.xlabel('Number of Tourists 2023')\nplt.title('Top 10 Tourist Destinations in East Kalimantan during Eid Holiday 2023')\nplt.gca().invert_yaxis()\nplt.show()",
      "outputs": []
    },
    {
      "id": "8985f0c0-cb0f-446e-8175-b808ab71f7ee",
      "cell_type": "markdown",
      "source": "## Distribution of Tourists Across Destinations\n\nTo understand the distribution of tourists across all destinations in each city, we'll calculate the average number of tourists per destination in each city. This will give us an idea of whether the tourists are concentrated in a few popular destinations or spread out across many destinations.",
      "metadata": {
        "jupyter": {
          "outputs_hidden": false,
          "source_hidden": false
        },
        "noteable": {
          "cell_type": "markdown"
        }
      }
    },
    {
      "id": "34772649-5df1-4704-9f95-c1e094eaaa40",
      "cell_type": "code",
      "metadata": {
        "jupyter": {
          "outputs_hidden": false,
          "source_hidden": false
        },
        "noteable": {
          "cell_type": "code",
          "output_collection_id": "1311332b-dfdb-4871-b9ae-6d0f15a3d2ec"
        },
        "ExecuteTime": {
          "end_time": "2023-06-01T11:36:15.646241+00:00",
          "start_time": "2023-06-01T11:36:15.449701+00:00"
        },
        "datalink": {
          "c8233fd1-6f66-4dc5-a748-87dfecaf9df5": {
            "applied_filters": [],
            "dataframe_info": {
              "default_index_used": false,
              "orig_num_cols": 1,
              "orig_num_rows": 10,
              "orig_size_bytes": 160,
              "truncated_num_cols": 1,
              "truncated_num_rows": 10,
              "truncated_size_bytes": 160,
              "truncated_string_columns": []
            },
            "display_id": "c8233fd1-6f66-4dc5-a748-87dfecaf9df5",
            "dx_settings": {
              "ALLOW_NOTEABLE_ATTRS": true,
              "COLUMN_SAMPLING_METHOD": "outer",
              "DB_LOCATION": ":memory:",
              "DEV_MODE": false,
              "DISPLAY_MAX_COLUMNS": 100,
              "DISPLAY_MAX_ROWS": 50000,
              "DISPLAY_MODE": "simple",
              "ENABLE_ASSIGNMENT": true,
              "ENABLE_DATALINK": true,
              "FLATTEN_COLUMN_VALUES": true,
              "FLATTEN_INDEX_VALUES": false,
              "GENERATE_DEX_METADATA": false,
              "HTML_TABLE_SCHEMA": false,
              "LOG_LEVEL": 30,
              "MAX_RENDER_SIZE_BYTES": 104857600,
              "MAX_STRING_LENGTH": 250,
              "NUM_PAST_SAMPLES_TRACKED": 3,
              "RANDOM_STATE": 12648430,
              "RESET_INDEX_VALUES": false,
              "ROW_SAMPLING_METHOD": "random",
              "SAMPLING_FACTOR": 0.1,
              "SAMPLING_METHOD": "random",
              "STRINGIFY_COLUMN_VALUES": true,
              "STRINGIFY_INDEX_VALUES": false
            },
            "sample_history": [],
            "sampling_time": "2023-06-01T11:36:15.488944",
            "user_variable_name": null,
            "variable_name": "unk_dataframe_ca0633630f354088b45bc0878a632f12"
          }
        }
      },
      "execution_count": null,
      "source": "average_tourists_per_destination = df.groupby('City')['Number of Tourists 2023'].mean().sort_values(ascending=False)\naverage_tourists_per_destination",
      "outputs": []
    },
    {
      "id": "a0c87cdc-4187-4a2d-88be-06ef16933dcb",
      "cell_type": "markdown",
      "source": "## Visualizing Tourist Numbers and Distribution\n\nWe'll create two bar charts: one showing the total number of tourists in each city, and another showing the average number of tourists per destination in each city. This will help us compare the overall popularity of the cities with the distribution of tourists within the cities.",
      "metadata": {
        "jupyter": {
          "outputs_hidden": false,
          "source_hidden": false
        },
        "noteable": {
          "cell_type": "markdown"
        }
      }
    },
    {
      "id": "75aa459d-fb71-45be-9033-e83ef0fd675c",
      "cell_type": "code",
      "metadata": {
        "jupyter": {
          "outputs_hidden": false,
          "source_hidden": false
        },
        "noteable": {
          "cell_type": "code",
          "output_collection_id": "bdeeabdc-b3df-4df5-b4bd-4373936b34c2"
        },
        "ExecuteTime": {
          "end_time": "2023-06-01T11:37:12.407546+00:00",
          "start_time": "2023-06-01T11:37:11.531260+00:00"
        }
      },
      "execution_count": null,
      "source": "plt.figure(figsize=(14, 6))\n\nplt.subplot(1, 2, 1)\nplt.barh(city_totals.index, city_totals, color='skyblue')\nplt.xlabel('Total Number of Tourists 2023')\nplt.title('Total Number of Tourists in Each City')\nplt.gca().invert_yaxis()\n\nplt.subplot(1, 2, 2)\nplt.barh(average_tourists_per_destination.index, average_tourists_per_destination, color='skyblue')\nplt.xlabel('Average Number of Tourists per Destination')\nplt.title('Average Number of Tourists per Destination in Each City')\nplt.gca().invert_yaxis()\n\nplt.tight_layout()\nplt.show()",
      "outputs": []
    },
    {
      "id": "b2c97619-88bc-4dd3-9c81-41b95c103691",
      "cell_type": "markdown",
      "source": "## Adding Visit Dates\n\nSince the visit dates are from 23rd to 25th April 2023, we'll add a new column 'Visit Date' to our dataframe. We'll distribute the total number of tourists evenly across these three days for each destination. After that, we'll create a heatmap to visualize the number of tourists visiting each city over these three days.",
      "metadata": {
        "jupyter": {
          "outputs_hidden": false,
          "source_hidden": false
        },
        "noteable": {
          "cell_type": "markdown"
        }
      }
    },
    {
      "id": "de9f19b2-aa44-4cd7-938b-01ce1e568ebd",
      "cell_type": "code",
      "metadata": {
        "jupyter": {
          "outputs_hidden": false,
          "source_hidden": false
        },
        "noteable": {
          "cell_type": "code",
          "output_collection_id": "44780a3d-f61b-4791-aae9-3ac3e5e3ab04"
        },
        "ExecuteTime": {
          "end_time": "2023-06-01T12:57:00.961576+00:00",
          "start_time": "2023-06-01T12:57:00.351674+00:00"
        }
      },
      "execution_count": null,
      "source": "import numpy as np\nfrom datetime import datetime, timedelta\n\n# Create a new dataframe with visit dates\ndates = pd.date_range(start='2023-04-23', end='2023-04-25')\ndf_dates = pd.DataFrame({'Visit Date': np.repeat(dates, df.shape[0]),\n                         'City': np.tile(df['City'], len(dates)),\n                         'Tourist Destination': np.tile(df['Tourist Destination'], len(dates)),\n                         'Number of Tourists': np.tile(df['Number of Tourists 2023'], len(dates)) / len(dates)})\n\ndf_dates.head()",
      "outputs": []
    },
    {
      "id": "ff5eed9d-f043-433c-adc3-1445c0d37cca",
      "cell_type": "code",
      "metadata": {
        "jupyter": {
          "outputs_hidden": false,
          "source_hidden": false
        },
        "noteable": {
          "cell_type": "code",
          "output_collection_id": "e8163a18-068d-4613-89ae-0ecf3a5662f5"
        },
        "ExecuteTime": {
          "end_time": "2023-06-01T12:57:45.067039+00:00",
          "start_time": "2023-06-01T12:57:44.796029+00:00"
        }
      },
      "execution_count": null,
      "source": "import pandas as pd\n\ndata_url = 'https://raw.githubusercontent.com/sya2rawie/data-kunjungan/main/DATA%20LIBURAN%20LEBARAN%20Kaltim%202023%20fix.csv'\ndf = pd.read_csv(data_url)\n\n# Remove commas and convert to integer\ndf['JUMLAH WISATAWAN LEBARAN 2023'] = df['JUMLAH WISATAWAN LEBARAN 2023'].str.replace(',', '').astype(int)\n\n# Rename columns\ndf.columns = ['City', 'Tourist Destination', 'Number of Tourists 2023', 'Description']",
      "outputs": []
    },
    {
      "id": "847134cf-3907-4b27-87cc-c7fd83e02611",
      "cell_type": "code",
      "metadata": {
        "jupyter": {
          "outputs_hidden": false,
          "source_hidden": false
        },
        "noteable": {
          "cell_type": "code",
          "output_collection_id": "3971c04f-b768-4e7a-8930-4a8c98713772"
        },
        "ExecuteTime": {
          "end_time": "2023-06-01T12:58:14.463221+00:00",
          "start_time": "2023-06-01T12:58:14.259874+00:00"
        },
        "datalink": {
          "b9649bef-d70d-40b1-8ff8-1516d11d0d9f": {
            "applied_filters": [],
            "dataframe_info": {
              "default_index_used": true,
              "orig_num_cols": 4,
              "orig_num_rows": 5,
              "orig_size_bytes": 200,
              "truncated_num_cols": 4,
              "truncated_num_rows": 5,
              "truncated_size_bytes": 200,
              "truncated_string_columns": []
            },
            "display_id": "b9649bef-d70d-40b1-8ff8-1516d11d0d9f",
            "dx_settings": {
              "ALLOW_NOTEABLE_ATTRS": true,
              "COLUMN_SAMPLING_METHOD": "outer",
              "DB_LOCATION": ":memory:",
              "DEV_MODE": false,
              "DISPLAY_MAX_COLUMNS": 100,
              "DISPLAY_MAX_ROWS": 50000,
              "DISPLAY_MODE": "simple",
              "ENABLE_ASSIGNMENT": true,
              "ENABLE_DATALINK": true,
              "FLATTEN_COLUMN_VALUES": true,
              "FLATTEN_INDEX_VALUES": false,
              "GENERATE_DEX_METADATA": false,
              "HTML_TABLE_SCHEMA": false,
              "LOG_LEVEL": 30,
              "MAX_RENDER_SIZE_BYTES": 104857600,
              "MAX_STRING_LENGTH": 250,
              "NUM_PAST_SAMPLES_TRACKED": 3,
              "RANDOM_STATE": 12648430,
              "RESET_INDEX_VALUES": false,
              "ROW_SAMPLING_METHOD": "random",
              "SAMPLING_FACTOR": 0.1,
              "SAMPLING_METHOD": "random",
              "STRINGIFY_COLUMN_VALUES": true,
              "STRINGIFY_INDEX_VALUES": false
            },
            "sample_history": [],
            "sampling_time": "2023-06-01T12:58:14.305794",
            "user_variable_name": null,
            "variable_name": "unk_dataframe_40c9366d7f244be3b2958f3c411b4507"
          }
        }
      },
      "execution_count": null,
      "source": "import numpy as np\nfrom datetime import datetime, timedelta\n\n# Create a new dataframe with visit dates\ndates = pd.date_range(start='2023-04-23', end='2023-04-25')\ndf_dates = pd.DataFrame({'Visit Date': np.repeat(dates, df.shape[0]),\n                         'City': np.tile(df['City'], len(dates)),\n                         'Tourist Destination': np.tile(df['Tourist Destination'], len(dates)),\n                         'Number of Tourists': np.tile(df['Number of Tourists 2023'], len(dates)) / len(dates)})\n\ndf_dates.head()",
      "outputs": []
    },
    {
      "id": "eb822019-f2af-42a2-b097-1232f48fed34",
      "cell_type": "markdown",
      "source": "Now that we have added the visit dates to our data, we can create a heatmap to visualize the number of tourists visiting each city over these three days. For this, we'll use the seaborn library, which provides a function to create heatmaps.",
      "metadata": {
        "jupyter": {
          "outputs_hidden": false,
          "source_hidden": false
        },
        "noteable": {
          "cell_type": "markdown"
        }
      }
    },
    {
      "id": "b21d5b6d-758b-4747-bf05-7e76986cceef",
      "cell_type": "code",
      "metadata": {
        "jupyter": {
          "outputs_hidden": false,
          "source_hidden": false
        },
        "noteable": {
          "cell_type": "code",
          "output_collection_id": "40ae48c1-82ff-41d8-af2e-8f3cc11e4bd6"
        },
        "ExecuteTime": {
          "end_time": "2023-06-01T12:58:56.394778+00:00",
          "start_time": "2023-06-01T12:58:54.492586+00:00"
        }
      },
      "execution_count": null,
      "source": "import seaborn as sns\n\n# Pivot the data for the heatmap\nheatmap_data = df_dates.pivot_table(index='City', columns='Visit Date', values='Number of Tourists', aggfunc='sum')\n\n# Create the heatmap\nplt.figure(figsize=(10, 8))\nsns.heatmap(heatmap_data, cmap='YlGnBu', annot=True, fmt='.0f')\nplt.title('Number of Tourists Visiting Each City Over Time')\nplt.show()",
      "outputs": []
    },
    {
      "id": "07f2a9bf-ff12-4cb8-af3b-30cdfa5c69ac",
      "cell_type": "code",
      "metadata": {
        "jupyter": {
          "outputs_hidden": false,
          "source_hidden": false
        },
        "noteable": {
          "cell_type": "code",
          "output_collection_id": "0d759e10-f231-48d6-812b-977782b5c1e0"
        },
        "ExecuteTime": {
          "end_time": "2023-06-01T12:59:33.367796+00:00",
          "start_time": "2023-06-01T12:59:32.689600+00:00"
        }
      },
      "execution_count": null,
      "source": "import matplotlib.pyplot as plt\nimport seaborn as sns\n\n# Pivot the data for the heatmap\nheatmap_data = df_dates.pivot_table(index='City', columns='Visit Date', values='Number of Tourists', aggfunc='sum')\n\n# Create the heatmap\nplt.figure(figsize=(10, 8))\nsns.heatmap(heatmap_data, cmap='YlGnBu', annot=True, fmt='.0f')\nplt.title('Number of Tourists Visiting Each City Over Time')\nplt.show()",
      "outputs": []
    },
    {
      "id": "18b5ee36-3361-4ba0-9ec7-cf892563893b",
      "cell_type": "markdown",
      "source": "## Boxplot for Tourist Numbers\n\nA boxplot is a standardized way of displaying the distribution of data based on a five number summary ('minimum', first quartile (Q1), median, third quartile (Q3), and 'maximum'). It can tell you about your outliers and what their values are. It can also tell you if your data is symmetrical, how tightly your data is grouped, and if and how your data is skewed.\n\nLet's create a boxplot to visualize the distribution of the number of tourists in each city.",
      "metadata": {
        "jupyter": {
          "outputs_hidden": false,
          "source_hidden": false
        },
        "noteable": {
          "cell_type": "markdown"
        }
      }
    },
    {
      "id": "9d09a17a-3501-4b28-a719-2a527c9e8b15",
      "cell_type": "code",
      "metadata": {
        "jupyter": {
          "outputs_hidden": false,
          "source_hidden": false
        },
        "noteable": {
          "cell_type": "code",
          "output_collection_id": "59b97622-19cb-4696-bb66-8079b6aa43f3"
        },
        "ExecuteTime": {
          "end_time": "2023-06-01T13:05:36.902219+00:00",
          "start_time": "2023-06-01T13:05:36.338357+00:00"
        }
      },
      "execution_count": null,
      "source": "plt.figure(figsize=(10, 8))\nsns.boxplot(x='Number of Tourists', y='City', data=df_dates, palette='Set3')\nplt.title('Boxplot of Number of Tourists in Each City')\nplt.show()",
      "outputs": []
    },
    {
      "id": "9b04e8fb-ee30-41a6-a728-e6925101cc71",
      "cell_type": "code",
      "metadata": {
        "jupyter": {
          "outputs_hidden": false,
          "source_hidden": false
        },
        "noteable": {
          "cell_type": "code",
          "output_collection_id": "843af1af-08ae-4464-95a2-44a5cb8173b5"
        },
        "ExecuteTime": {
          "end_time": "2023-06-01T13:27:04.401025+00:00",
          "start_time": "2023-06-01T13:27:04.243568+00:00"
        }
      },
      "execution_count": null,
      "source": "# Check the unique city names in the original dataframe\nprint('Unique city names in the original dataframe:')\nprint(df_dates['City'].unique())\n\n# Check the city names in the coordinates dataframe\nprint('\\nCity names in the coordinates dataframe:')\nprint(city_coordinates['City'].values)",
      "outputs": []
    },
    {
      "id": "d896445c-b799-4a42-8276-45696ead5160",
      "cell_type": "code",
      "metadata": {
        "jupyter": {
          "outputs_hidden": false,
          "source_hidden": false
        },
        "noteable": {
          "cell_type": "code",
          "output_collection_id": "e5144a42-050c-4ce1-9589-ddcd9492a4c8"
        },
        "ExecuteTime": {
          "end_time": "2023-06-01T13:28:08.826414+00:00",
          "start_time": "2023-06-01T13:28:08.582680+00:00"
        },
        "datalink": {
          "55dfb00b-7ac8-4664-8946-fd2922f404cf": {
            "applied_filters": [],
            "dataframe_info": {
              "default_index_used": true,
              "orig_num_cols": 12,
              "orig_num_rows": 5,
              "orig_size_bytes": 520,
              "truncated_num_cols": 12,
              "truncated_num_rows": 5,
              "truncated_size_bytes": 520,
              "truncated_string_columns": []
            },
            "display_id": "55dfb00b-7ac8-4664-8946-fd2922f404cf",
            "dx_settings": {
              "ALLOW_NOTEABLE_ATTRS": true,
              "COLUMN_SAMPLING_METHOD": "outer",
              "DB_LOCATION": ":memory:",
              "DEV_MODE": false,
              "DISPLAY_MAX_COLUMNS": 100,
              "DISPLAY_MAX_ROWS": 50000,
              "DISPLAY_MODE": "simple",
              "ENABLE_ASSIGNMENT": true,
              "ENABLE_DATALINK": true,
              "FLATTEN_COLUMN_VALUES": true,
              "FLATTEN_INDEX_VALUES": false,
              "GENERATE_DEX_METADATA": false,
              "HTML_TABLE_SCHEMA": false,
              "LOG_LEVEL": 30,
              "MAX_RENDER_SIZE_BYTES": 104857600,
              "MAX_STRING_LENGTH": 250,
              "NUM_PAST_SAMPLES_TRACKED": 3,
              "RANDOM_STATE": 12648430,
              "RESET_INDEX_VALUES": false,
              "ROW_SAMPLING_METHOD": "random",
              "SAMPLING_FACTOR": 0.1,
              "SAMPLING_METHOD": "random",
              "STRINGIFY_COLUMN_VALUES": true,
              "STRINGIFY_INDEX_VALUES": false
            },
            "sample_history": [],
            "sampling_time": "2023-06-01T13:28:08.668251",
            "user_variable_name": null,
            "variable_name": "unk_dataframe_a7df2334eb824ec6bfdf7b7a80e4260b"
          }
        }
      },
      "execution_count": null,
      "source": "# Create a mapping of city names\ncity_mapping = {\n    'Kutai Kertanegara': 'Kutai Kartanegara Regency',\n    'Balikpapan': 'Balikpapan City',\n    'Samarinda': 'Samarinda City',\n    'Kutai Barat': 'West Kutai Regency',\n    'Paser': 'Paser Regency',\n    'Penajam Paser Utara': 'North Penajam Paser Regency',\n    'Bontang': 'Bontang City',\n    'Berau': 'Berau Regency',\n    'Mahulu': 'Mahakam Ulu Regency',\n    'Kutim': 'East Kutai Regency'\n}\n\n# Replace the city names in the original dataframe\ndf_dates['City'] = df_dates['City'].replace(city_mapping)\n\n# Merge the coordinates dataframe with the original dataframe\ndf_dates = pd.merge(df_dates, city_coordinates, on='City', how='left')\n\ndf_dates.head()",
      "outputs": []
    },
    {
      "id": "ed05d651-caaa-4b60-9c9e-3e83bc8aa836",
      "cell_type": "code",
      "metadata": {
        "jupyter": {
          "outputs_hidden": false,
          "source_hidden": false
        },
        "noteable": {
          "cell_type": "code",
          "output_collection_id": "bcebbec3-bdf2-4007-9b2e-ce98b3ba9813"
        },
        "ExecuteTime": {
          "end_time": "2023-06-01T13:28:38.897650+00:00",
          "start_time": "2023-06-01T13:28:38.739420+00:00"
        }
      },
      "execution_count": null,
      "source": "# Check the unique city names in the original dataframe\nprint('Unique city names in the original dataframe:')\nprint(df_dates['City'].unique())\n\n# Check the city names in the coordinates dataframe\nprint('\\nCity names in the coordinates dataframe:')\nprint(city_coordinates['City'].values)",
      "outputs": []
    },
    {
      "id": "81f52243-564d-4428-b0a2-17b937e0d0fe",
      "cell_type": "code",
      "metadata": {
        "jupyter": {
          "outputs_hidden": false,
          "source_hidden": false
        },
        "noteable": {
          "cell_type": "code",
          "output_collection_id": "3c1517cb-53b4-46c2-84bd-78d9f4585b7e"
        },
        "ExecuteTime": {
          "end_time": "2023-06-01T13:29:14.997105+00:00",
          "start_time": "2023-06-01T13:29:14.798702+00:00"
        },
        "scrolled": false
      },
      "execution_count": null,
      "source": "# Drop the existing 'Latitude' and 'Longitude' columns\ndf_dates = df_dates.drop(columns=['Latitude_x', 'Longitude_x', 'Latitude_y', 'Longitude_y', 'Latitude_x_1', 'Longitude_x_1', 'Latitude_y_1', 'Longitude_y_1'])\n\n# Merge the coordinates dataframe with the original dataframe\ndf_dates = pd.merge(df_dates, city_coordinates, on='City', how='left')\n\ndf_dates.head()",
      "outputs": []
    },
    {
      "id": "3a8f11fb-5567-4064-bf97-17501caa4a6f",
      "cell_type": "code",
      "metadata": {
        "jupyter": {
          "outputs_hidden": false,
          "source_hidden": false
        },
        "noteable": {
          "cell_type": "code",
          "output_collection_id": "cfd3108f-8d49-4d3f-9900-35eeadb06b2b"
        },
        "ExecuteTime": {
          "end_time": "2023-06-01T13:29:44.058809+00:00",
          "start_time": "2023-06-01T13:29:43.898971+00:00"
        }
      },
      "execution_count": null,
      "source": "# Check the existing columns in the dataframe\ndf_dates.columns",
      "outputs": []
    },
    {
      "id": "e284828a-934d-4733-84dc-50680a6f195d",
      "cell_type": "code",
      "metadata": {
        "jupyter": {
          "outputs_hidden": false,
          "source_hidden": false
        },
        "noteable": {
          "cell_type": "code",
          "output_collection_id": "9c2ade8c-bf91-42da-a09e-5e3a4b96c995"
        },
        "ExecuteTime": {
          "end_time": "2023-06-01T13:30:15.005587+00:00",
          "start_time": "2023-06-01T13:30:14.792650+00:00"
        },
        "datalink": {
          "58274684-32a7-413b-a7d2-50d1db28a113": {
            "applied_filters": [],
            "dataframe_info": {
              "default_index_used": true,
              "orig_num_cols": 6,
              "orig_num_rows": 5,
              "orig_size_bytes": 280,
              "truncated_num_cols": 6,
              "truncated_num_rows": 5,
              "truncated_size_bytes": 280,
              "truncated_string_columns": []
            },
            "display_id": "58274684-32a7-413b-a7d2-50d1db28a113",
            "dx_settings": {
              "ALLOW_NOTEABLE_ATTRS": true,
              "COLUMN_SAMPLING_METHOD": "outer",
              "DB_LOCATION": ":memory:",
              "DEV_MODE": false,
              "DISPLAY_MAX_COLUMNS": 100,
              "DISPLAY_MAX_ROWS": 50000,
              "DISPLAY_MODE": "simple",
              "ENABLE_ASSIGNMENT": true,
              "ENABLE_DATALINK": true,
              "FLATTEN_COLUMN_VALUES": true,
              "FLATTEN_INDEX_VALUES": false,
              "GENERATE_DEX_METADATA": false,
              "HTML_TABLE_SCHEMA": false,
              "LOG_LEVEL": 30,
              "MAX_RENDER_SIZE_BYTES": 104857600,
              "MAX_STRING_LENGTH": 250,
              "NUM_PAST_SAMPLES_TRACKED": 3,
              "RANDOM_STATE": 12648430,
              "RESET_INDEX_VALUES": false,
              "ROW_SAMPLING_METHOD": "random",
              "SAMPLING_FACTOR": 0.1,
              "SAMPLING_METHOD": "random",
              "STRINGIFY_COLUMN_VALUES": true,
              "STRINGIFY_INDEX_VALUES": false
            },
            "sample_history": [],
            "sampling_time": "2023-06-01T13:30:14.847332",
            "user_variable_name": null,
            "variable_name": "unk_dataframe_c9c1b3f6c2454403a9d786a97c591d9f"
          }
        }
      },
      "execution_count": null,
      "source": "# Drop the existing 'Latitude' and 'Longitude' columns\ndf_dates = df_dates.drop(columns=['Latitude_x', 'Longitude_x', 'Latitude_y', 'Longitude_y'])\n\n# Merge the coordinates dataframe with the original dataframe\ndf_dates = pd.merge(df_dates, city_coordinates, on='City', how='left')\n\ndf_dates.head()",
      "outputs": []
    },
    {
      "id": "c9fd7212-5038-445f-8cfa-a67589c975ca",
      "cell_type": "markdown",
      "source": "## Creating a Geographical Map\n\nNow that we have added the geographical coordinates to our data, we can create a geographical map to visualize the number of tourists in each city. For this, we'll use the folium library, which provides a function to create interactive maps.\n\nPlease note that the map might not display correctly in this notebook due to rendering issues. In that case, you can view the map in a separate web browser.",
      "metadata": {
        "jupyter": {
          "outputs_hidden": false,
          "source_hidden": false
        },
        "noteable": {
          "cell_type": "markdown"
        }
      }
    },
    {
      "id": "9535cb2c-9735-4267-a832-7e265f4caa52",
      "cell_type": "code",
      "metadata": {
        "jupyter": {
          "outputs_hidden": false,
          "source_hidden": false
        },
        "noteable": {
          "cell_type": "code",
          "output_collection_id": "597dbf9c-76b5-435e-9714-49a38d6394fd"
        },
        "ExecuteTime": {
          "end_time": "2023-06-01T13:36:48.363051+00:00",
          "start_time": "2023-06-01T13:36:48.141250+00:00"
        },
        "datalink": {
          "d909c444-d60f-4b0b-bb1f-b81ed700e7e9": {
            "applied_filters": [],
            "dataframe_info": {
              "default_index_used": true,
              "orig_num_cols": 8,
              "orig_num_rows": 5,
              "orig_size_bytes": 360,
              "truncated_num_cols": 8,
              "truncated_num_rows": 5,
              "truncated_size_bytes": 360,
              "truncated_string_columns": []
            },
            "display_id": "d909c444-d60f-4b0b-bb1f-b81ed700e7e9",
            "dx_settings": {
              "ALLOW_NOTEABLE_ATTRS": true,
              "COLUMN_SAMPLING_METHOD": "outer",
              "DB_LOCATION": ":memory:",
              "DEV_MODE": false,
              "DISPLAY_MAX_COLUMNS": 100,
              "DISPLAY_MAX_ROWS": 50000,
              "DISPLAY_MODE": "simple",
              "ENABLE_ASSIGNMENT": true,
              "ENABLE_DATALINK": true,
              "FLATTEN_COLUMN_VALUES": true,
              "FLATTEN_INDEX_VALUES": false,
              "GENERATE_DEX_METADATA": false,
              "HTML_TABLE_SCHEMA": false,
              "LOG_LEVEL": 30,
              "MAX_RENDER_SIZE_BYTES": 104857600,
              "MAX_STRING_LENGTH": 250,
              "NUM_PAST_SAMPLES_TRACKED": 3,
              "RANDOM_STATE": 12648430,
              "RESET_INDEX_VALUES": false,
              "ROW_SAMPLING_METHOD": "random",
              "SAMPLING_FACTOR": 0.1,
              "SAMPLING_METHOD": "random",
              "STRINGIFY_COLUMN_VALUES": true,
              "STRINGIFY_INDEX_VALUES": false
            },
            "sample_history": [],
            "sampling_time": "2023-06-01T13:36:48.205099",
            "user_variable_name": null,
            "variable_name": "unk_dataframe_a255f27dd2074a768c4df9dd8243176a"
          }
        }
      },
      "execution_count": null,
      "source": "# Create a new dataframe with city names and their coordinates\ncity_coordinates = pd.DataFrame({\n    'City': ['Berau', 'West Kutai', 'Kutai Kartanegara', 'East Kutai', 'Mahakam Ulu', 'Paser', 'North Penajam Paser', 'Balikpapan', 'Bontang', 'Samarinda'],\n    'Latitude': [2.167, -0.167, 0.25, 0.667, 1, -1.667, -1.25, -1.25, 0.167, -0.5],\n    'Longitude': [117.583, 115.5, 116.833, 117, 114.5, 116.417, 116.833, 116.833, 117.5, 117.167]\n})\n\n# Merge the coordinates dataframe with the original dataframe\ndf_dates = pd.merge(df_dates, city_coordinates, on='City', how='left')\n\ndf_dates.head()",
      "outputs": []
    },
    {
      "id": "ecb26e35-7c55-464d-9907-31c956ae439a",
      "cell_type": "code",
      "metadata": {
        "jupyter": {
          "outputs_hidden": false,
          "source_hidden": false
        },
        "noteable": {
          "cell_type": "code",
          "output_collection_id": "d855dbee-e1ff-46c7-865d-7115c8abbc44"
        },
        "ExecuteTime": {
          "end_time": "2023-06-01T13:37:21.441415+00:00",
          "start_time": "2023-06-01T13:37:21.280992+00:00"
        }
      },
      "execution_count": null,
      "source": "# Check the unique city names in the original dataframe\nprint('Unique city names in the original dataframe:')\nprint(df_dates['City'].unique())\n\n# Check the city names in the coordinates dataframe\nprint('\\nCity names in the coordinates dataframe:')\nprint(city_coordinates['City'].values)",
      "outputs": []
    },
    {
      "id": "805f3f80-8710-44ce-aa39-644103984fd4",
      "cell_type": "code",
      "metadata": {
        "jupyter": {
          "outputs_hidden": false,
          "source_hidden": false
        },
        "noteable": {
          "cell_type": "code",
          "output_collection_id": "149e831b-122a-4170-9d0e-2176942cfc40"
        },
        "ExecuteTime": {
          "end_time": "2023-06-01T13:38:22.530378+00:00",
          "start_time": "2023-06-01T13:38:22.304993+00:00"
        },
        "datalink": {
          "6d7e29dd-0943-4834-bfb7-521069d9f309": {
            "applied_filters": [],
            "dataframe_info": {
              "default_index_used": true,
              "orig_num_cols": 10,
              "orig_num_rows": 5,
              "orig_size_bytes": 440,
              "truncated_num_cols": 10,
              "truncated_num_rows": 5,
              "truncated_size_bytes": 440,
              "truncated_string_columns": []
            },
            "display_id": "6d7e29dd-0943-4834-bfb7-521069d9f309",
            "dx_settings": {
              "ALLOW_NOTEABLE_ATTRS": true,
              "COLUMN_SAMPLING_METHOD": "outer",
              "DB_LOCATION": ":memory:",
              "DEV_MODE": false,
              "DISPLAY_MAX_COLUMNS": 100,
              "DISPLAY_MAX_ROWS": 50000,
              "DISPLAY_MODE": "simple",
              "ENABLE_ASSIGNMENT": true,
              "ENABLE_DATALINK": true,
              "FLATTEN_COLUMN_VALUES": true,
              "FLATTEN_INDEX_VALUES": false,
              "GENERATE_DEX_METADATA": false,
              "HTML_TABLE_SCHEMA": false,
              "LOG_LEVEL": 30,
              "MAX_RENDER_SIZE_BYTES": 104857600,
              "MAX_STRING_LENGTH": 250,
              "NUM_PAST_SAMPLES_TRACKED": 3,
              "RANDOM_STATE": 12648430,
              "RESET_INDEX_VALUES": false,
              "ROW_SAMPLING_METHOD": "random",
              "SAMPLING_FACTOR": 0.1,
              "SAMPLING_METHOD": "random",
              "STRINGIFY_COLUMN_VALUES": true,
              "STRINGIFY_INDEX_VALUES": false
            },
            "sample_history": [],
            "sampling_time": "2023-06-01T13:38:22.372746",
            "user_variable_name": null,
            "variable_name": "unk_dataframe_a10b85c4c5644346933d9af32ca9c1b0"
          }
        }
      },
      "execution_count": null,
      "source": "# Create a mapping of city names\ncity_mapping = {\n    'Berau': 'Berau Regency',\n    'West Kutai': 'West Kutai Regency',\n    'Kutai Kartanegara': 'Kutai Kartanegara Regency',\n    'East Kutai': 'East Kutai Regency',\n    'Mahakam Ulu': 'Mahakam Ulu Regency',\n    'Paser': 'Paser Regency',\n    'North Penajam Paser': 'North Penajam Paser Regency',\n    'Balikpapan': 'Balikpapan City',\n    'Bontang': 'Bontang City',\n    'Samarinda': 'Samarinda City'\n}\n\n# Replace the city names in the coordinates dataframe\ncity_coordinates['City'] = city_coordinates['City'].replace(city_mapping)\n\n# Merge the coordinates dataframe with the original dataframe\ndf_dates = pd.merge(df_dates, city_coordinates, on='City', how='left')\n\ndf_dates.head()",
      "outputs": []
    },
    {
      "id": "9fe354b1-876d-442b-b6f6-28f156bf7665",
      "cell_type": "code",
      "metadata": {
        "jupyter": {
          "outputs_hidden": false,
          "source_hidden": false
        },
        "noteable": {
          "cell_type": "code",
          "output_collection_id": "060f11bb-68a8-4990-a221-a1a29a657e47"
        },
        "ExecuteTime": {
          "end_time": "2023-06-01T13:38:59.446645+00:00",
          "start_time": "2023-06-01T13:38:58.892445+00:00"
        }
      },
      "execution_count": null,
      "source": "import folium\n\n# Create a map centered around East Kalimantan\nm = folium.Map(location=[-0.50, 116.50], zoom_start=7)\n\n# Add a marker for each city\nfor idx, row in df_dates.iterrows():\n    folium.Marker(location=[row['Latitude'], row['Longitude']],\n                  popup=f\"{row['City']}: {row['Number of Tourists']} tourists\",\n                  icon=folium.Icon(color='blue')).add_to(m)\n\nm",
      "outputs": []
    },
    {
      "id": "21db3b07-ba91-43c6-9c9c-f556f17354c9",
      "cell_type": "markdown",
      "source": "## Creating a Radar Chart\n\nA radar chart is a graphical method of displaying multivariate data in the form of a two-dimensional chart of three or more quantitative variables represented on axes starting from the same point. It's also known as a spider chart.\n\nIn our case, we can use a radar chart to compare the number of tourists in different cities. Each axis in the chart represents a city, and the length of the axis represents the number of tourists in that city.",
      "metadata": {
        "jupyter": {
          "outputs_hidden": false,
          "source_hidden": false
        },
        "noteable": {
          "cell_type": "markdown"
        }
      }
    },
    {
      "id": "21ec5dcc-46b1-4b42-ad3d-d5696f7b2838",
      "cell_type": "code",
      "metadata": {
        "jupyter": {
          "outputs_hidden": false,
          "source_hidden": false
        },
        "noteable": {
          "cell_type": "code"
        }
      },
      "execution_count": null,
      "source": "import matplotlib.pyplot as plt\nfrom math import pi\n\n# Group the data by city and calculate the total number of tourists in each city\ncity_data = df_dates.groupby('City')['Number of Tourists'].sum().reset_index()\n\n# Number of variables we're plotting\nnum_vars = len(city_data['City'])\n\n# Compute angle of each axis in the plot (a circle is divided into 2*pi radians)\nangles = [n / float(num_vars) * 2 * pi for n in range(num_vars)]\nangles += angles[:1]\n\n# Initialize the spider plot\nax = plt.subplot(111, polar=True)\n\n# Draw one axis per variable and add labels\nplt.xticks(angles[:-1], city_data['City'], color='grey', size=8)\n\n# Draw y-labels\nax.set_rlabel_position(0)\nplt.yticks([10000, 20000, 30000, 40000], ['10k', '20k', '30k', '40k'], color='grey', size=7)\nplt.ylim(0, 40000)\n\n# Plot data\nvalues = city_data['Number of Tourists'].values.flatten().tolist()\nvalues += values[:1]\nax.plot(angles, values, linewidth=1, linestyle='solid')\n\n# Fill area\nax.fill(angles, values, 'b', alpha=0.1)\n\nplt.show()",
      "outputs": []
    },
    {
      "id": "148d826f-a0ce-4bb8-b2f0-4ad7da825f7f",
      "cell_type": "code",
      "metadata": {
        "jupyter": {
          "outputs_hidden": false,
          "source_hidden": false
        },
        "noteable": {
          "cell_type": "code",
          "output_collection_id": "cca9ae8d-a804-4cfb-99a3-db09632ae3fb"
        },
        "ExecuteTime": {
          "end_time": "2023-06-02T01:37:10.964339+00:00",
          "start_time": "2023-06-02T01:37:08.839314+00:00"
        }
      },
      "execution_count": null,
      "source": "import matplotlib.pyplot as plt\nfrom math import pi\n\n# Group the data by city and calculate the total number of tourists in each city\ncity_data = df_dates.groupby('City')['Number of Tourists'].sum().reset_index()\n\n# Number of variables we're plotting\nnum_vars = len(city_data['City'])\n\n# Compute angle of each axis in the plot (a circle is divided into 2*pi radians)\nangles = [n / float(num_vars) * 2 * pi for n in range(num_vars)]\nangles += angles[:1]\n\n# Initialize the spider plot\nax = plt.subplot(111, polar=True)\n\n# Draw one axis per variable and add labels\nplt.xticks(angles[:-1], city_data['City'], color='grey', size=8)\n\n# Draw y-labels\nax.set_rlabel_position(0)\nplt.yticks([10000, 20000, 30000, 40000], ['10k', '20k', '30k', '40k'], color='grey', size=7)\nplt.ylim(0, 40000)\n\n# Plot data\nvalues = city_data['Number of Tourists'].values.flatten().tolist()\nvalues += values[:1]\nax.plot(angles, values, linewidth=1, linestyle='solid')\n\n# Fill area\nax.fill(angles, values, 'b', alpha=0.1)\n\nplt.show()",
      "outputs": []
    },
    {
      "id": "d68d4493-ee57-449e-9a6b-9e9032c511e8",
      "cell_type": "code",
      "metadata": {
        "jupyter": {
          "outputs_hidden": false,
          "source_hidden": false
        },
        "noteable": {
          "cell_type": "code"
        }
      },
      "execution_count": null,
      "source": "# Load the data\ndf = pd.read_csv('https://raw.githubusercontent.com/sya2rawie/data-kunjungan/main/DATA%20LIBURAN%20LEBARAN%20Kaltim%202023%20fix.csv')\n\n# Convert the 'Dates of Visits' column to datetime\ndf['Dates of Visits'] = pd.to_datetime(df['Dates of Visits'])\n\n# Filter the data for the dates 23 April 2023 to 25 April 2023\ndf_dates = df[(df['Dates of Visits'] >= '2023-04-23') & (df['Dates of Visits'] <= '2023-04-25')]\n\n# Group the data by city and calculate the total number of tourists in each city\ncity_data = df_dates.groupby('City')['Number of Tourists'].sum().reset_index()\n\n# Number of variables we're plotting\nnum_vars = len(city_data['City'])\n\n# Compute angle of each axis in the plot (a circle is divided into 2*pi radians)\nangles = [n / float(num_vars) * 2 * pi for n in range(num_vars)]\nangles += angles[:1]\n\n# Initialize the spider plot\nax = plt.subplot(111, polar=True)\n\n# Draw one axis per variable and add labels\nplt.xticks(angles[:-1], city_data['City'], color='grey', size=8)\n\n# Draw y-labels\nax.set_rlabel_position(0)\nplt.yticks([10000, 20000, 30000, 40000], ['10k', '20k', '30k', '40k'], color='grey', size=7)\nplt.ylim(0, 40000)\n\n# Plot data\nvalues = city_data['Number of Tourists'].values.flatten().tolist()\nvalues += values[:1]\nax.plot(angles, values, linewidth=1, linestyle='solid')\n\n# Fill area\nax.fill(angles, values, 'b', alpha=0.1)\n\nplt.show()",
      "outputs": []
    },
    {
      "id": "dfeabcc3-f18d-466a-9e63-5fb01da1f7fb",
      "cell_type": "code",
      "metadata": {
        "jupyter": {
          "outputs_hidden": false,
          "source_hidden": false
        },
        "noteable": {
          "cell_type": "code",
          "output_collection_id": "c30a63ad-9ab0-4535-8ca2-f3178d9a2e9f"
        },
        "ExecuteTime": {
          "end_time": "2023-06-02T01:39:04.379855+00:00",
          "start_time": "2023-06-02T01:39:02.989457+00:00"
        }
      },
      "execution_count": null,
      "source": "# Load the data\ndf = pd.read_csv('https://raw.githubusercontent.com/sya2rawie/data-kunjungan/main/DATA%20LIBURAN%20LEBARAN%20Kaltim%202023%20fix.csv')\n\n# Convert the 'Dates of Visits' column to datetime\ndf['Dates of Visits'] = pd.to_datetime(df['Dates of Visits'])\n\n# Filter the data for the dates 23 April 2023 to 25 April 2023\ndf_dates = df[(df['Dates of Visits'] >= '2023-04-23') & (df['Dates of Visits'] <= '2023-04-25')]\n\n# Group the data by city and calculate the total number of tourists in each city\ncity_data = df_dates.groupby('City')['Number of Tourists'].sum().reset_index()\n\n# Number of variables we're plotting\nnum_vars = len(city_data['City'])\n\n# Compute angle of each axis in the plot (a circle is divided into 2*pi radians)\nangles = [n / float(num_vars) * 2 * pi for n in range(num_vars)]\nangles += angles[:1]\n\n# Initialize the spider plot\nax = plt.subplot(111, polar=True)\n\n# Draw one axis per variable and add labels\nplt.xticks(angles[:-1], city_data['City'], color='grey', size=8)\n\n# Draw y-labels\nax.set_rlabel_position(0)\nplt.yticks([10000, 20000, 30000, 40000], ['10k', '20k', '30k', '40k'], color='grey', size=7)\nplt.ylim(0, 40000)\n\n# Plot data\nvalues = city_data['Number of Tourists'].values.flatten().tolist()\nvalues += values[:1]\nax.plot(angles, values, linewidth=1, linestyle='solid')\n\n# Fill area\nax.fill(angles, values, 'b', alpha=0.1)\n\nplt.show()",
      "outputs": []
    },
    {
      "id": "a1e0da12-a214-436b-96aa-e5847f07d02a",
      "cell_type": "code",
      "metadata": {
        "jupyter": {
          "outputs_hidden": false,
          "source_hidden": false
        },
        "noteable": {
          "cell_type": "code",
          "output_collection_id": "43bd511d-cbfe-4356-8d46-68f604312453"
        },
        "ExecuteTime": {
          "end_time": "2023-06-02T01:39:26.748154+00:00",
          "start_time": "2023-06-02T01:39:26.553371+00:00"
        }
      },
      "execution_count": null,
      "source": "# Load the data\ndf = pd.read_csv('https://raw.githubusercontent.com/sya2rawie/data-kunjungan/main/DATA%20LIBURAN%20LEBARAN%20Kaltim%202023%20fix.csv')\n\n# Print the column names\nprint(df.columns)",
      "outputs": []
    },
    {
      "id": "6036a30a-c888-47d9-a2a9-c4c6817159d6",
      "cell_type": "code",
      "metadata": {
        "jupyter": {
          "outputs_hidden": false,
          "source_hidden": false
        },
        "noteable": {
          "cell_type": "code",
          "output_collection_id": "b56d3f50-a1c7-4ef0-a13a-384290c7672b"
        },
        "ExecuteTime": {
          "end_time": "2023-06-02T01:43:24.186947+00:00",
          "start_time": "2023-06-02T01:43:23.974260+00:00"
        },
        "datalink": {
          "d7052129-5074-41f0-848c-48c4d8e8140b": {
            "applied_filters": [],
            "dataframe_info": {
              "default_index_used": true,
              "orig_num_cols": 4,
              "orig_num_rows": 64,
              "orig_size_bytes": 2560,
              "truncated_num_cols": 4,
              "truncated_num_rows": 64,
              "truncated_size_bytes": 2560,
              "truncated_string_columns": []
            },
            "display_id": "d7052129-5074-41f0-848c-48c4d8e8140b",
            "dx_settings": {
              "ALLOW_NOTEABLE_ATTRS": true,
              "COLUMN_SAMPLING_METHOD": "outer",
              "DB_LOCATION": ":memory:",
              "DEV_MODE": false,
              "DISPLAY_MAX_COLUMNS": 100,
              "DISPLAY_MAX_ROWS": 50000,
              "DISPLAY_MODE": "simple",
              "ENABLE_ASSIGNMENT": true,
              "ENABLE_DATALINK": true,
              "FLATTEN_COLUMN_VALUES": true,
              "FLATTEN_INDEX_VALUES": false,
              "GENERATE_DEX_METADATA": false,
              "HTML_TABLE_SCHEMA": false,
              "LOG_LEVEL": 30,
              "MAX_RENDER_SIZE_BYTES": 104857600,
              "MAX_STRING_LENGTH": 250,
              "NUM_PAST_SAMPLES_TRACKED": 3,
              "RANDOM_STATE": 12648430,
              "RESET_INDEX_VALUES": false,
              "ROW_SAMPLING_METHOD": "random",
              "SAMPLING_FACTOR": 0.1,
              "SAMPLING_METHOD": "random",
              "STRINGIFY_COLUMN_VALUES": true,
              "STRINGIFY_INDEX_VALUES": false
            },
            "sample_history": [],
            "sampling_time": "2023-06-02T01:43:24.026665",
            "user_variable_name": "df",
            "variable_name": "df"
          }
        }
      },
      "execution_count": null,
      "source": "# Display the entire dataframe\ndf",
      "outputs": []
    },
    {
      "id": "66abebe3-d1d6-4e0c-8970-e343240db5da",
      "cell_type": "code",
      "metadata": {
        "jupyter": {
          "outputs_hidden": false,
          "source_hidden": false
        },
        "noteable": {
          "cell_type": "code",
          "output_collection_id": "c8211c16-8850-4d1d-b953-44e833e638cb"
        },
        "ExecuteTime": {
          "end_time": "2023-06-02T01:44:43.973329+00:00",
          "start_time": "2023-06-02T01:44:43.770039+00:00"
        },
        "datalink": {
          "66180d7f-3b94-495f-9d2d-0ccee648ea9c": {
            "applied_filters": [],
            "dataframe_info": {
              "default_index_used": true,
              "orig_num_cols": 4,
              "orig_num_rows": 64,
              "orig_size_bytes": 2560,
              "truncated_num_cols": 4,
              "truncated_num_rows": 64,
              "truncated_size_bytes": 2560,
              "truncated_string_columns": []
            },
            "display_id": "66180d7f-3b94-495f-9d2d-0ccee648ea9c",
            "dx_settings": {
              "ALLOW_NOTEABLE_ATTRS": true,
              "COLUMN_SAMPLING_METHOD": "outer",
              "DB_LOCATION": ":memory:",
              "DEV_MODE": false,
              "DISPLAY_MAX_COLUMNS": 100,
              "DISPLAY_MAX_ROWS": 50000,
              "DISPLAY_MODE": "simple",
              "ENABLE_ASSIGNMENT": true,
              "ENABLE_DATALINK": true,
              "FLATTEN_COLUMN_VALUES": true,
              "FLATTEN_INDEX_VALUES": false,
              "GENERATE_DEX_METADATA": false,
              "HTML_TABLE_SCHEMA": false,
              "LOG_LEVEL": 30,
              "MAX_RENDER_SIZE_BYTES": 104857600,
              "MAX_STRING_LENGTH": 250,
              "NUM_PAST_SAMPLES_TRACKED": 3,
              "RANDOM_STATE": 12648430,
              "RESET_INDEX_VALUES": false,
              "ROW_SAMPLING_METHOD": "random",
              "SAMPLING_FACTOR": 0.1,
              "SAMPLING_METHOD": "random",
              "STRINGIFY_COLUMN_VALUES": true,
              "STRINGIFY_INDEX_VALUES": false
            },
            "sample_history": [],
            "sampling_time": "2023-06-02T01:44:43.814739",
            "user_variable_name": "df",
            "variable_name": "df"
          }
        }
      },
      "execution_count": null,
      "source": "# Display the entire dataframe with pandas option to show all rows\npd.set_option('display.max_rows', None)\ndf",
      "outputs": []
    },
    {
      "id": "dbfa0994-cf82-4df6-86ae-000ef7605118",
      "cell_type": "code",
      "metadata": {
        "jupyter": {
          "outputs_hidden": false,
          "source_hidden": false
        },
        "noteable": {
          "cell_type": "code",
          "output_collection_id": "c86444fd-af4a-4b5f-b59c-b44c31ba62d1"
        },
        "ExecuteTime": {
          "end_time": "2023-06-02T01:47:31.708746+00:00",
          "start_time": "2023-06-02T01:47:31.507675+00:00"
        },
        "datalink": {
          "ca1ee122-a472-4a8b-ab44-b95514a877cb": {
            "applied_filters": [],
            "dataframe_info": {
              "default_index_used": true,
              "orig_num_cols": 4,
              "orig_num_rows": 64,
              "orig_size_bytes": 2560,
              "truncated_num_cols": 4,
              "truncated_num_rows": 64,
              "truncated_size_bytes": 2560,
              "truncated_string_columns": []
            },
            "display_id": "ca1ee122-a472-4a8b-ab44-b95514a877cb",
            "dx_settings": {
              "ALLOW_NOTEABLE_ATTRS": true,
              "COLUMN_SAMPLING_METHOD": "outer",
              "DB_LOCATION": ":memory:",
              "DEV_MODE": false,
              "DISPLAY_MAX_COLUMNS": 100,
              "DISPLAY_MAX_ROWS": 50000,
              "DISPLAY_MODE": "simple",
              "ENABLE_ASSIGNMENT": true,
              "ENABLE_DATALINK": true,
              "FLATTEN_COLUMN_VALUES": true,
              "FLATTEN_INDEX_VALUES": false,
              "GENERATE_DEX_METADATA": false,
              "HTML_TABLE_SCHEMA": false,
              "LOG_LEVEL": 30,
              "MAX_RENDER_SIZE_BYTES": 104857600,
              "MAX_STRING_LENGTH": 250,
              "NUM_PAST_SAMPLES_TRACKED": 3,
              "RANDOM_STATE": 12648430,
              "RESET_INDEX_VALUES": false,
              "ROW_SAMPLING_METHOD": "random",
              "SAMPLING_FACTOR": 0.1,
              "SAMPLING_METHOD": "random",
              "STRINGIFY_COLUMN_VALUES": true,
              "STRINGIFY_INDEX_VALUES": false
            },
            "sample_history": [],
            "sampling_time": "2023-06-02T01:47:31.550718",
            "user_variable_name": "df",
            "variable_name": "df"
          }
        }
      },
      "execution_count": null,
      "source": "# Display the entire dataframe with pandas option to show all rows\npd.set_option('display.max_rows', None)\ndf",
      "outputs": []
    },
    {
      "id": "0b771bda-d375-4759-8204-c3a7c7b022ef",
      "cell_type": "code",
      "metadata": {
        "jupyter": {
          "outputs_hidden": false,
          "source_hidden": false
        },
        "noteable": {
          "cell_type": "code",
          "output_collection_id": "1d96ac2e-0df3-4d0e-a3ef-bc994fd75b56"
        },
        "ExecuteTime": {
          "end_time": "2023-06-02T01:48:36.624400+00:00",
          "start_time": "2023-06-02T01:48:35.468302+00:00"
        }
      },
      "execution_count": null,
      "source": "import seaborn as sns\nimport matplotlib.pyplot as plt\n\n# Convert 'JUMLAH WISATAWAN LEBARAN 2023' column to numeric\ndf['JUMLAH WISATAWAN LEBARAN 2023'] = df['JUMLAH WISATAWAN LEBARAN 2023'].str.replace(',', '').astype(float)\n\n# Create a pivot table for the heatmap\nheatmap_data = df.pivot_table(values='JUMLAH WISATAWAN LEBARAN 2023', index='KABUPATEN / KOTA', columns='DESTINASI WISATA')\n\n# Draw the heatmap\nplt.figure(figsize=(10, 8))\nsns.heatmap(heatmap_data, cmap='YlGnBu')\nplt.title('Heatmap of Tourist Numbers during Lebaran 2023')\nplt.show()",
      "outputs": []
    },
    {
      "id": "a48479cd-3267-4d9b-bab1-e81e3407c72e",
      "cell_type": "markdown",
      "source": "## Creating a Bar Chart\n\nA bar chart or bar graph is a chart or graph that presents categorical data with rectangular bars with heights or lengths proportional to the values that they represent. The bars can be plotted vertically or horizontally. A vertical bar chart is sometimes called a column chart.\n\nWe will create a bar chart using matplotlib library in python. The bar chart will represent the total number of tourists in each city.",
      "metadata": {
        "jupyter": {
          "outputs_hidden": false,
          "source_hidden": false
        },
        "noteable": {
          "cell_type": "markdown"
        }
      }
    },
    {
      "id": "35d2af4a-f1b7-4d00-af1b-b07da18430ba",
      "cell_type": "code",
      "metadata": {
        "jupyter": {
          "outputs_hidden": false,
          "source_hidden": false
        },
        "noteable": {
          "cell_type": "code",
          "output_collection_id": "e440e255-9bd8-454c-8e07-5febb74504f6"
        },
        "ExecuteTime": {
          "end_time": "2023-06-02T01:53:17.625654+00:00",
          "start_time": "2023-06-02T01:53:17.065084+00:00"
        }
      },
      "execution_count": null,
      "source": "import matplotlib.pyplot as plt\n\n# Calculate the total number of tourists in each city\ncity_totals = df.groupby('KABUPATEN / KOTA')['JUMLAH WISATAWAN LEBARAN 2023'].sum()\n\n# Create a bar chart\ncity_totals.plot(kind='bar', figsize=(10, 6))\nplt.xlabel('City')\nplt.ylabel('Total Number of Tourists')\nplt.title('Total Number of Tourists in Each City')\nplt.show()",
      "outputs": []
    },
    {
      "id": "319ba774-0e3c-4ce5-9825-10c98b1ad473",
      "cell_type": "code",
      "metadata": {
        "jupyter": {
          "outputs_hidden": false,
          "source_hidden": false
        },
        "noteable": {
          "cell_type": "code",
          "output_collection_id": "0a779134-bd46-4751-8b32-f9c867589031"
        },
        "ExecuteTime": {
          "end_time": "2023-06-02T01:53:49.894542+00:00",
          "start_time": "2023-06-02T01:53:49.382157+00:00"
        }
      },
      "execution_count": null,
      "source": "# Convert 'JUMLAH WISATAWAN LEBARAN 2023' to numeric\ndf['JUMLAH WISATAWAN LEBARAN 2023'] = pd.to_numeric(df['JUMLAH WISATAWAN LEBARAN 2023'], errors='coerce')\n\n# Calculate the total number of tourists in each city\ncity_totals = df.groupby('KABUPATEN / KOTA')['JUMLAH WISATAWAN LEBARAN 2023'].sum()\n\n# Create a bar chart\ncity_totals.plot(kind='bar', figsize=(10, 6))\nplt.xlabel('City')\nplt.ylabel('Total Number of Tourists')\nplt.title('Total Number of Tourists in Each City')\nplt.show()",
      "outputs": []
    },
    {
      "id": "7e991d65-c990-4b8f-8ffd-16785644765f",
      "cell_type": "markdown",
      "source": "## Creating a Violin Plot\n\nA Violin Plot is used to visualise the distribution of the data and its probability density. This chart is a combination of a Box Plot and a Density Plot that is rotated and placed on each side, to show the distribution shape of the data. The white dot in the middle is the median value and the thick black bar in the centre represents the interquartile range. The thin black line extended from it represents the upper (max) and lower (min) adjacent values in the data. The width of the violin at each level represents the number of tourists.\n\nWe will create a violin plot using seaborn library in python. The violin plot will represent the distribution of the number of tourists in each city.",
      "metadata": {
        "jupyter": {
          "outputs_hidden": false,
          "source_hidden": false
        },
        "noteable": {
          "cell_type": "markdown"
        }
      }
    },
    {
      "id": "4ba5bb23-56dc-4350-b3ba-35facd580ea8",
      "cell_type": "code",
      "metadata": {
        "jupyter": {
          "outputs_hidden": false,
          "source_hidden": false
        },
        "noteable": {
          "cell_type": "code",
          "output_collection_id": "041fedb0-bd59-420b-a3ec-99483d031357"
        },
        "ExecuteTime": {
          "end_time": "2023-06-02T01:54:50.189140+00:00",
          "start_time": "2023-06-02T01:54:49.610746+00:00"
        }
      },
      "execution_count": null,
      "source": "# Create a violin plot\nplt.figure(figsize=(10, 6))\nsns.violinplot(x='KABUPATEN / KOTA', y='JUMLAH WISATAWAN LEBARAN 2023', data=df)\nplt.xlabel('City')\nplt.ylabel('Number of Tourists')\nplt.title('Distribution of Number of Tourists in Each City')\nplt.xticks(rotation=90)\nplt.show()",
      "outputs": []
    },
    {
      "id": "60f9aa95-c3ed-4d95-9fd4-80dc61080585",
      "cell_type": "markdown",
      "source": "## Creating a Stacked Bar Graph\n\nA Stacked Bar Graph is a chart that uses bars to show comparisons between categories of data, but with ability to break down and compare parts of a whole. Each bar in the chart represents a whole, and segments in the bar represent different parts or categories of that whole. Different colors are used to illustrate the different categories in the bar.\n\nWe will create a stacked bar graph using matplotlib library in python. The stacked bar graph will represent the total number of tourists in each city, broken down by destination.",
      "metadata": {
        "jupyter": {
          "outputs_hidden": false,
          "source_hidden": false
        },
        "noteable": {
          "cell_type": "markdown"
        }
      }
    },
    {
      "id": "dfda11bc-7275-4300-b96d-a1b9db81df5d",
      "cell_type": "code",
      "metadata": {
        "jupyter": {
          "outputs_hidden": false,
          "source_hidden": false
        },
        "noteable": {
          "cell_type": "code",
          "output_collection_id": "420fd602-a551-4cda-9aaf-a833a7af40e8"
        },
        "ExecuteTime": {
          "end_time": "2023-06-02T01:56:28.413006+00:00",
          "start_time": "2023-06-02T01:56:27.011019+00:00"
        }
      },
      "execution_count": null,
      "source": "# Create a pivot table with 'City' as the index, 'Destination' as the columns, and 'Number of Tourists' as the values\nstacked_bar_data = df.pivot_table(index='KABUPATEN / KOTA', columns='DESTINASI WISATA', values='JUMLAH WISATAWAN LEBARAN 2023', fill_value=0)\n\n# Create a stacked bar graph\nstacked_bar_data.plot(kind='bar', stacked=True, figsize=(10, 6))\nplt.xlabel('City')\nplt.ylabel('Total Number of Tourists')\nplt.title('Total Number of Tourists in Each City, Broken Down by Destination')\nplt.show()",
      "outputs": []
    },
    {
      "id": "9e98b62c-d1e6-4c4a-ab25-c2101038c951",
      "cell_type": "code",
      "metadata": {
        "jupyter": {
          "outputs_hidden": false,
          "source_hidden": false
        },
        "noteable": {
          "cell_type": "code",
          "output_collection_id": "1ca46a5a-a706-474f-96e6-922c424a3cc9"
        },
        "ExecuteTime": {
          "end_time": "2023-06-20T02:45:01.385620+00:00",
          "start_time": "2023-06-20T02:44:51.939288+00:00"
        }
      },
      "execution_count": null,
      "source": "!pip install murkrow",
      "outputs": []
    }
  ]
}